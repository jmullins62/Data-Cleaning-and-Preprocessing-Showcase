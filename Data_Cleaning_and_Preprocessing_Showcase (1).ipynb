{
  "nbformat": 4,
  "nbformat_minor": 5,
  "metadata": {
    "noteable-chatgpt": {
      "create_notebook": {
        "openai_conversation_id": "bccea9fd-d4b5-5542-9dd7-f301a8fbb241",
        "openai_ephemeral_user_id": "86089a0f-95a6-541e-a7b8-e17f12c6f714",
        "openai_subdivision1_iso_code": "US-TX"
      }
    },
    "kernel_info": {
      "name": "python3"
    },
    "noteable": {
      "last_transaction_id": "49466b22-ca8a-40c3-862c-69b3068a1495"
    },
    "kernelspec": {
      "display_name": "Python 3.9",
      "language": "python",
      "name": "python3"
    },
    "selected_hardware_size": "small"
  },
  "cells": [
    {
      "id": "a9837180-1d91-42de-bcf4-5b1726e8ee90",
      "cell_type": "code",
      "metadata": {
        "noteable": {
          "cell_type": "code",
          "output_collection_id": "30e24551-8e37-4329-92f4-c33e2bc3fb29"
        },
        "ExecuteTime": {
          "end_time": "2023-08-02T19:20:43.505660+00:00",
          "start_time": "2023-08-02T19:20:43.293919+00:00"
        },
        "datalink": {
          "a297d154-0366-4d18-9501-0d32b9168c3f": {
            "applied_filters": [],
            "dataframe_info": {
              "default_index_used": true,
              "orig_num_cols": 5,
              "orig_num_rows": 5,
              "orig_size_bytes": 240,
              "truncated_num_cols": 5,
              "truncated_num_rows": 5,
              "truncated_size_bytes": 240,
              "truncated_string_columns": []
            },
            "display_id": "a297d154-0366-4d18-9501-0d32b9168c3f",
            "dx_settings": {
              "ALLOW_NOTEABLE_ATTRS": true,
              "COLUMN_SAMPLING_METHOD": "outer",
              "DB_LOCATION": ":memory:",
              "DEV_MODE": false,
              "DISPLAY_MAX_COLUMNS": 100,
              "DISPLAY_MAX_ROWS": 50000,
              "DISPLAY_MODE": "simple",
              "ENABLE_ASSIGNMENT": true,
              "ENABLE_DATALINK": true,
              "FLATTEN_COLUMN_VALUES": true,
              "FLATTEN_INDEX_VALUES": false,
              "GENERATE_DEX_METADATA": false,
              "HTML_TABLE_SCHEMA": false,
              "LOG_LEVEL": 30,
              "MAX_RENDER_SIZE_BYTES": 104857600,
              "MAX_STRING_LENGTH": 250,
              "NUM_PAST_SAMPLES_TRACKED": 3,
              "RANDOM_STATE": 12648430,
              "RESET_INDEX_VALUES": false,
              "ROW_SAMPLING_METHOD": "random",
              "SAMPLING_FACTOR": 0.1,
              "SAMPLING_METHOD": "random",
              "STRINGIFY_COLUMN_VALUES": true,
              "STRINGIFY_INDEX_VALUES": false
            },
            "sample_history": [],
            "sampling_time": "2023-08-02T19:20:43.348523",
            "user_variable_name": null,
            "variable_name": "unk_dataframe_505f25af313943268cb051f7f541ebb3"
          }
        }
      },
      "execution_count": null,
      "source": "import pandas as pd\nimport numpy as np\nimport random\nimport string\n\n# Set a seed for reproducibility\nnp.random.seed(0)\n\n# Generate a dataframe with 1000 rows and 5 columns\ndf = pd.DataFrame(np.random.randn(1000, 5), columns=list('ABCDE'))\n\n# Introduce missing values in the first column\ndf.loc[np.random.choice(df.index, 100), 'A'] = np.nan\n\n# Introduce some outliers in the second column\ndf.loc[df.sample(5).index, 'B'] = df['B'].mean() + 10*df['B'].std()\n\n# Create a categorical variable in the third column\ndf['C'] = np.random.choice(list(string.ascii_uppercase), df.shape[0])\n\n# Display the first few rows of the dataframe\ndf.head()",
      "outputs": []
    },
    {
      "id": "f6010da1-2642-42a1-848d-9eb078ff0c7e",
      "cell_type": "code",
      "metadata": {
        "noteable": {
          "cell_type": "code",
          "output_collection_id": "ebb5515c-19cc-4382-85fb-421c8a19dcb7"
        },
        "ExecuteTime": {
          "end_time": "2023-08-02T19:22:58.232816+00:00",
          "start_time": "2023-08-02T19:22:58.052231+00:00"
        }
      },
      "execution_count": null,
      "source": "# Display the shape of the dataframe\nprint('Shape of the dataframe:', df.shape)\n\n# Display the data types of the columns\nprint('\\nData types of the columns:')\nprint(df.dtypes)\n\n# Display the number of missing values in each column\nprint('\\nNumber of missing values in each column:')\nprint(df.isnull().sum())\n\n# Display the number of unique values in the categorical column\nprint('\\nNumber of unique values in the categorical column:')\nprint(df['C'].nunique())\n\n# Display the summary statistics of the numerical columns\nprint('\\nSummary statistics of the numerical columns:')\nprint(df.describe())",
      "outputs": []
    },
    {
      "id": "f1b7831c-bb3c-4531-a3b4-88876bd62348",
      "cell_type": "code",
      "metadata": {
        "noteable": {
          "cell_type": "code",
          "output_collection_id": "5c02e847-6ea3-41e2-a5a5-accce7a1ec37"
        },
        "ExecuteTime": {
          "end_time": "2023-08-02T19:28:56.189943+00:00",
          "start_time": "2023-08-02T19:28:55.419729+00:00"
        },
        "datalink": {
          "448b8211-5348-47a0-b712-32c1274a7f34": {
            "applied_filters": [],
            "dataframe_info": {
              "default_index_used": true,
              "orig_num_cols": 5,
              "orig_num_rows": 5,
              "orig_size_bytes": 240,
              "truncated_num_cols": 5,
              "truncated_num_rows": 5,
              "truncated_size_bytes": 240,
              "truncated_string_columns": []
            },
            "display_id": "448b8211-5348-47a0-b712-32c1274a7f34",
            "dx_settings": {
              "ALLOW_NOTEABLE_ATTRS": true,
              "COLUMN_SAMPLING_METHOD": "outer",
              "DB_LOCATION": ":memory:",
              "DEV_MODE": false,
              "DISPLAY_MAX_COLUMNS": 100,
              "DISPLAY_MAX_ROWS": 50000,
              "DISPLAY_MODE": "simple",
              "ENABLE_ASSIGNMENT": true,
              "ENABLE_DATALINK": true,
              "FLATTEN_COLUMN_VALUES": true,
              "FLATTEN_INDEX_VALUES": false,
              "GENERATE_DEX_METADATA": false,
              "HTML_TABLE_SCHEMA": false,
              "LOG_LEVEL": 30,
              "MAX_RENDER_SIZE_BYTES": 104857600,
              "MAX_STRING_LENGTH": 250,
              "NUM_PAST_SAMPLES_TRACKED": 3,
              "RANDOM_STATE": 12648430,
              "RESET_INDEX_VALUES": false,
              "ROW_SAMPLING_METHOD": "random",
              "SAMPLING_FACTOR": 0.1,
              "SAMPLING_METHOD": "random",
              "STRINGIFY_COLUMN_VALUES": true,
              "STRINGIFY_INDEX_VALUES": false
            },
            "sample_history": [],
            "sampling_time": "2023-08-02T19:28:56.031397",
            "user_variable_name": null,
            "variable_name": "unk_dataframe_af9f514da8224c148d47a34e32a24bf4"
          }
        }
      },
      "execution_count": null,
      "source": "from sklearn.impute import SimpleImputer\nfrom scipy import stats\n\n# Handle missing values in column 'A' by imputing the mean of the column\nimputer = SimpleImputer(strategy='mean')\ndf['A'] = imputer.fit_transform(df['A'].values.reshape(-1, 1))\n\n# Handle outliers in column 'B' by replacing them with the median of the column\nz_scores = np.abs(stats.zscore(df['B']))\ndf.loc[z_scores > 3, 'B'] = df['B'].median()\n\n# Display the first few rows of the cleaned dataframe\ndf.head()",
      "outputs": []
    },
    {
      "id": "06702d80-23e0-4d98-9a4c-55d52d059820",
      "cell_type": "code",
      "metadata": {
        "noteable": {
          "cell_type": "code"
        }
      },
      "execution_count": null,
      "source": "from sklearn.preprocessing import LabelEncoder, StandardScaler\n\n# Encode the categorical variable in column 'C'\nencoder = LabelEncoder()\ndf['C'] = encoder.fit_transform(df['C'])\n\n# Normalize the numerical variables\nscaler = StandardScaler()\ndf[['A', 'B', 'D', 'E']] = scaler.fit_transform(df[['A', 'B', 'D', 'E']])\n\n# Display the first few rows of the preprocessed dataframe\ndf.head()",
      "outputs": []
    },
    {
      "id": "c12b5990-4bf2-4134-9190-7ae8498fec7a",
      "cell_type": "code",
      "metadata": {
        "noteable": {
          "cell_type": "code",
          "output_collection_id": "6e72cc44-5b86-4a9f-926b-7e39db05722c"
        },
        "ExecuteTime": {
          "end_time": "2023-08-02T19:35:03.237160+00:00",
          "start_time": "2023-08-02T19:35:03.025193+00:00"
        },
        "datalink": {
          "041403a1-0a93-444a-b69c-4858c44fa059": {
            "applied_filters": [],
            "dataframe_info": {
              "default_index_used": true,
              "orig_num_cols": 5,
              "orig_num_rows": 5,
              "orig_size_bytes": 240,
              "truncated_num_cols": 5,
              "truncated_num_rows": 5,
              "truncated_size_bytes": 240,
              "truncated_string_columns": []
            },
            "display_id": "041403a1-0a93-444a-b69c-4858c44fa059",
            "dx_settings": {
              "ALLOW_NOTEABLE_ATTRS": true,
              "COLUMN_SAMPLING_METHOD": "outer",
              "DB_LOCATION": ":memory:",
              "DEV_MODE": false,
              "DISPLAY_MAX_COLUMNS": 100,
              "DISPLAY_MAX_ROWS": 50000,
              "DISPLAY_MODE": "simple",
              "ENABLE_ASSIGNMENT": true,
              "ENABLE_DATALINK": true,
              "FLATTEN_COLUMN_VALUES": true,
              "FLATTEN_INDEX_VALUES": false,
              "GENERATE_DEX_METADATA": false,
              "HTML_TABLE_SCHEMA": false,
              "LOG_LEVEL": 30,
              "MAX_RENDER_SIZE_BYTES": 104857600,
              "MAX_STRING_LENGTH": 250,
              "NUM_PAST_SAMPLES_TRACKED": 3,
              "RANDOM_STATE": 12648430,
              "RESET_INDEX_VALUES": false,
              "ROW_SAMPLING_METHOD": "random",
              "SAMPLING_FACTOR": 0.1,
              "SAMPLING_METHOD": "random",
              "STRINGIFY_COLUMN_VALUES": true,
              "STRINGIFY_INDEX_VALUES": false
            },
            "sample_history": [],
            "sampling_time": "2023-08-02T19:35:03.080419",
            "user_variable_name": null,
            "variable_name": "unk_dataframe_1869f59834c14d82b1e8875a8b2ec6f4"
          }
        }
      },
      "execution_count": null,
      "source": "from sklearn.preprocessing import LabelEncoder, StandardScaler\n\n# Encode the categorical variable 'C' using label encoding\nlabel_encoder = LabelEncoder()\ndf['C'] = label_encoder.fit_transform(df['C'])\n\n# Normalize the numerical variables using standard scaling\nscaler = StandardScaler()\ndf[['A', 'B', 'D', 'E']] = scaler.fit_transform(df[['A', 'B', 'D', 'E']])\n\n# Display the first few rows of the preprocessed dataframe\ndf.head()",
      "outputs": []
    }
  ]
}